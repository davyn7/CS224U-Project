{
  "nbformat": 4,
  "nbformat_minor": 0,
  "metadata": {
    "colab": {
      "provenance": [],
      "gpuType": "T4"
    },
    "kernelspec": {
      "name": "python3",
      "display_name": "Python 3"
    },
    "language_info": {
      "name": "python"
    },
    "accelerator": "GPU"
  },
  "cells": [
    {
      "cell_type": "code",
      "execution_count": null,
      "metadata": {
        "id": "wgPyLSj60e08"
      },
      "outputs": [],
      "source": [
        "from google.colab import drive"
      ]
    },
    {
      "cell_type": "code",
      "source": [
        "drive.mount('/content/drive')"
      ],
      "metadata": {
        "id": "-_9GS3esbKUa",
        "colab": {
          "base_uri": "https://localhost:8080/"
        },
        "outputId": "eaf16cb5-eb71-49cc-d2a5-2a72d8a08eb2"
      },
      "execution_count": null,
      "outputs": [
        {
          "output_type": "stream",
          "name": "stdout",
          "text": [
            "Mounted at /content/drive\n"
          ]
        }
      ]
    },
    {
      "cell_type": "code",
      "source": [
        "!cd '/content/drive/MyDrive/CS224U'"
      ],
      "metadata": {
        "id": "g_T-lGTnbNzu"
      },
      "execution_count": null,
      "outputs": []
    },
    {
      "cell_type": "code",
      "source": [
        "!ls"
      ],
      "metadata": {
        "colab": {
          "base_uri": "https://localhost:8080/"
        },
        "id": "2DcxeJnTbxhq",
        "outputId": "a91c65d4-9f60-4157-f6bb-e0f9960c92e0"
      },
      "execution_count": null,
      "outputs": [
        {
          "output_type": "stream",
          "name": "stdout",
          "text": [
            "drive  sample_data\n"
          ]
        }
      ]
    },
    {
      "cell_type": "code",
      "source": [
        "\n",
        "import pandas as pd\n",
        "import numpy as np\n",
        "file_path = '/content/drive/MyDrive/CS224U/kaggle_urbandict.csv'\n",
        "df = pd.read_csv(file_path, error_bad_lines=False)"
      ],
      "metadata": {
        "id": "Vuv6HrGKcIXV"
      },
      "execution_count": null,
      "outputs": []
    },
    {
      "cell_type": "code",
      "source": [
        "len(df)"
      ],
      "metadata": {
        "colab": {
          "base_uri": "https://localhost:8080/"
        },
        "id": "d2Ihmuw6crsy",
        "outputId": "d4c7e676-20c1-46cf-9f63-87fd817ed34f"
      },
      "execution_count": null,
      "outputs": [
        {
          "output_type": "execute_result",
          "data": {
            "text/plain": [
              "2580586"
            ]
          },
          "metadata": {},
          "execution_count": 6
        }
      ]
    },
    {
      "cell_type": "code",
      "source": [
        "df.head(10)"
      ],
      "metadata": {
        "id": "bsplkTlQdBNT"
      },
      "execution_count": null,
      "outputs": []
    },
    {
      "cell_type": "code",
      "source": [
        "filtered_df = df[df['up_votes'] > df['down_votes'] + 10]\n",
        "filtered_df = filtered_df.dropna(subset=['word', 'definition'])\n",
        "filtered_df['usage'] = None\n",
        "len(filtered_df)"
      ],
      "metadata": {
        "id": "pmIg3Q8gdF0g"
      },
      "execution_count": null,
      "outputs": []
    },
    {
      "cell_type": "code",
      "source": [
        "filtered_df['usage'].astype(object)\n",
        "filtered_df.head(10)"
      ],
      "metadata": {
        "id": "UPac4LWbdh6U"
      },
      "execution_count": null,
      "outputs": []
    },
    {
      "cell_type": "code",
      "source": [
        "import requests\n",
        "import re\n",
        "import nltk\n",
        "from nltk.tokenize import word_tokenize\n",
        "nltk.download('punkt')"
      ],
      "metadata": {
        "colab": {
          "base_uri": "https://localhost:8080/"
        },
        "id": "YXsgCE1IoGFp",
        "outputId": "99dac057-15f0-4b6b-8804-f7aff5351f28"
      },
      "execution_count": null,
      "outputs": [
        {
          "output_type": "stream",
          "name": "stderr",
          "text": [
            "[nltk_data] Downloading package punkt to /root/nltk_data...\n",
            "[nltk_data]   Unzipping tokenizers/punkt.zip.\n"
          ]
        },
        {
          "output_type": "execute_result",
          "data": {
            "text/plain": [
              "True"
            ]
          },
          "metadata": {},
          "execution_count": 10
        }
      ]
    },
    {
      "cell_type": "code",
      "source": [
        "def clean_UD_examples(word):\n",
        "  response = requests.get(f\"http://api.urbandictionary.com/v0/define?term={word}\")\n",
        "  data = response.json()\n",
        "  examples = []\n",
        "  if 'list' in data and len(data['list']) > 0:\n",
        "      definitions = data['list']\n",
        "      top_definition = max(definitions, key=lambda x: x['thumbs_up'])\n",
        "      example = top_definition['example']\n",
        "      cleaned_example = re.sub(r'\\[', '', example)  # Remove opening brackets\n",
        "      cleaned_example = re.sub(r'\\]', '', cleaned_example)  # Remove closing brackets\n",
        "      cleaned_example = re.sub(r'[\\n\\r]', ' ', cleaned_example)  # Remove line breaks and carriage returns\n",
        "      word_list = word_tokenize(cleaned_example) # nltk tokenizer after cleaning\n",
        "      examples.extend(word_list)\n",
        "      return examples\n",
        "  return examples\n"
      ],
      "metadata": {
        "id": "ihT0Td9GdxC9"
      },
      "execution_count": null,
      "outputs": []
    },
    {
      "cell_type": "code",
      "source": [
        "word = 'queue'\n",
        "examples = clean_UD_examples(word)\n",
        "print(examples)"
      ],
      "metadata": {
        "colab": {
          "base_uri": "https://localhost:8080/",
          "height": 206
        },
        "id": "AFzg_v5gvqmv",
        "outputId": "4a9140d1-3163-415d-a522-a5ad395fd2c3"
      },
      "execution_count": null,
      "outputs": [
        {
          "output_type": "error",
          "ename": "NameError",
          "evalue": "ignored",
          "traceback": [
            "\u001b[0;31m---------------------------------------------------------------------------\u001b[0m",
            "\u001b[0;31mNameError\u001b[0m                                 Traceback (most recent call last)",
            "\u001b[0;32m<ipython-input-1-c33644047d49>\u001b[0m in \u001b[0;36m<cell line: 2>\u001b[0;34m()\u001b[0m\n\u001b[1;32m      1\u001b[0m \u001b[0mword\u001b[0m \u001b[0;34m=\u001b[0m \u001b[0;34m'queue'\u001b[0m\u001b[0;34m\u001b[0m\u001b[0;34m\u001b[0m\u001b[0m\n\u001b[0;32m----> 2\u001b[0;31m \u001b[0mexamples\u001b[0m \u001b[0;34m=\u001b[0m \u001b[0mclean_UD_examples\u001b[0m\u001b[0;34m(\u001b[0m\u001b[0mword\u001b[0m\u001b[0;34m)\u001b[0m\u001b[0;34m\u001b[0m\u001b[0;34m\u001b[0m\u001b[0m\n\u001b[0m\u001b[1;32m      3\u001b[0m \u001b[0mprint\u001b[0m\u001b[0;34m(\u001b[0m\u001b[0mexamples\u001b[0m\u001b[0;34m)\u001b[0m\u001b[0;34m\u001b[0m\u001b[0;34m\u001b[0m\u001b[0m\n",
            "\u001b[0;31mNameError\u001b[0m: name 'clean_UD_examples' is not defined"
          ]
        }
      ]
    },
    {
      "cell_type": "code",
      "source": [
        "import itertools\n",
        "for index, row in itertools.islice(filtered_df.iterrows(), 250000):\n",
        "  word = row['word']\n",
        "  examples = clean_UD_examples(word)\n",
        "  filtered_df.at[index, 'usage'] = examples\n",
        "  print(index)"
      ],
      "metadata": {
        "id": "UZuWFIDyi1sB"
      },
      "execution_count": null,
      "outputs": []
    },
    {
      "cell_type": "code",
      "source": [
        "len(filtered_df)"
      ],
      "metadata": {
        "colab": {
          "base_uri": "https://localhost:8080/"
        },
        "id": "zcktP9Dd76Sx",
        "outputId": "00cf5d72-c30c-4a4f-e2bd-fd3ec8a1f74e"
      },
      "execution_count": null,
      "outputs": [
        {
          "output_type": "execute_result",
          "data": {
            "text/plain": [
              "625243"
            ]
          },
          "metadata": {},
          "execution_count": 48
        }
      ]
    },
    {
      "cell_type": "code",
      "source": [
        "final_df = filtered_df.dropna(subset=['usage'])"
      ],
      "metadata": {
        "id": "lf-zgjzGHgAf"
      },
      "execution_count": null,
      "outputs": []
    },
    {
      "cell_type": "code",
      "source": [
        "final_df = final_df[final_df['usage'].apply(lambda x: len(x) >0)]\n",
        "final_df['usage'] = final_df['usage'].apply(lambda x: [word.lower() for word in x])\n",
        "final_df['word'] = final_df['word'].astype(str).str.lower()"
      ],
      "metadata": {
        "id": "2jvHQPLt9NV2"
      },
      "execution_count": null,
      "outputs": []
    },
    {
      "cell_type": "code",
      "source": [
        "final_df = final_df.drop(['author'], axis=1)"
      ],
      "metadata": {
        "id": "mx0yNy2PGY3J"
      },
      "execution_count": null,
      "outputs": []
    },
    {
      "cell_type": "code",
      "source": [
        "final_df['word'] = final_df['word'].apply(nltk.word_tokenize)"
      ],
      "metadata": {
        "id": "4PrZkGwiHvBI"
      },
      "execution_count": null,
      "outputs": []
    },
    {
      "cell_type": "code",
      "source": [
        "final_df.head(10)"
      ],
      "metadata": {
        "colab": {
          "base_uri": "https://localhost:8080/",
          "height": 362
        },
        "id": "yBxvpjzEKIsL",
        "outputId": "1a7c7fd3-82c2-49e2-fd78-aed1d3d0aeb2"
      },
      "execution_count": null,
      "outputs": [
        {
          "output_type": "execute_result",
          "data": {
            "text/plain": [
              "    word_id         word  up_votes  down_votes  \\\n",
              "0         7      [janky]       296         255   \n",
              "3        12  [hard-core]       162          96   \n",
              "8        17        [wtf]       183          99   \n",
              "9        19       [hazy]       272         184   \n",
              "16       32     [ducket]       481         272   \n",
              "19       38     [a-hole]        68          35   \n",
              "23       42       [clap]      1395         516   \n",
              "28       47       [puke]       138         109   \n",
              "29       48      [folks]        79          59   \n",
              "31       50        [dog]      1303         915   \n",
              "\n",
              "                                           definition  \\\n",
              "0                     Undesirable; less-than optimum.   \n",
              "3   anything out of our league that can be good or...   \n",
              "8   what the fuck? ;; use it in place of expletive...   \n",
              "9   A guys state of mind after he sees the girl of...   \n",
              "16  a one dollar bill. $1. ;; equivalent to one hu...   \n",
              "19                                           Ass hole   \n",
              "23                                a case of gonorrhea   \n",
              "28                                           to vomit   \n",
              "29  p. noun: People, not necessarily related, to w...   \n",
              "31  n. friend of the same sex, usually male. Deriv...   \n",
              "\n",
              "                                                usage  \n",
              "0   [this, janky, shirt, she, gave, me, is, fallin...  \n",
              "3   [i, ca, n't, believe, he, went, to, a, strip, ...  \n",
              "8               [wtf, ?, whoth, ?, whentf, ?, wts, ?]  \n",
              "9   [fuckin, hazy, again, !, !, !, !, !, !, !, !, ...  \n",
              "16                       [fucking, ducket, again, ..]  \n",
              "19  [los, angeles, lakers, are, a, bunch, of, lazy...  \n",
              "23  [i, think, i, got, a, case, of, the, claps, fr...  \n",
              "28  [this, crappy, movie, made, johnny, want, to, ...  \n",
              "29  [so, are, your, folks, coming, over, for, east...  \n",
              "31  [``, definition, of, a, dog, :, not, a, cat, '...  "
            ],
            "text/html": [
              "\n",
              "  <div id=\"df-eb612689-6996-49ec-bcd0-5eb7236c748a\">\n",
              "    <div class=\"colab-df-container\">\n",
              "      <div>\n",
              "<style scoped>\n",
              "    .dataframe tbody tr th:only-of-type {\n",
              "        vertical-align: middle;\n",
              "    }\n",
              "\n",
              "    .dataframe tbody tr th {\n",
              "        vertical-align: top;\n",
              "    }\n",
              "\n",
              "    .dataframe thead th {\n",
              "        text-align: right;\n",
              "    }\n",
              "</style>\n",
              "<table border=\"1\" class=\"dataframe\">\n",
              "  <thead>\n",
              "    <tr style=\"text-align: right;\">\n",
              "      <th></th>\n",
              "      <th>word_id</th>\n",
              "      <th>word</th>\n",
              "      <th>up_votes</th>\n",
              "      <th>down_votes</th>\n",
              "      <th>definition</th>\n",
              "      <th>usage</th>\n",
              "    </tr>\n",
              "  </thead>\n",
              "  <tbody>\n",
              "    <tr>\n",
              "      <th>0</th>\n",
              "      <td>7</td>\n",
              "      <td>[janky]</td>\n",
              "      <td>296</td>\n",
              "      <td>255</td>\n",
              "      <td>Undesirable; less-than optimum.</td>\n",
              "      <td>[this, janky, shirt, she, gave, me, is, fallin...</td>\n",
              "    </tr>\n",
              "    <tr>\n",
              "      <th>3</th>\n",
              "      <td>12</td>\n",
              "      <td>[hard-core]</td>\n",
              "      <td>162</td>\n",
              "      <td>96</td>\n",
              "      <td>anything out of our league that can be good or...</td>\n",
              "      <td>[i, ca, n't, believe, he, went, to, a, strip, ...</td>\n",
              "    </tr>\n",
              "    <tr>\n",
              "      <th>8</th>\n",
              "      <td>17</td>\n",
              "      <td>[wtf]</td>\n",
              "      <td>183</td>\n",
              "      <td>99</td>\n",
              "      <td>what the fuck? ;; use it in place of expletive...</td>\n",
              "      <td>[wtf, ?, whoth, ?, whentf, ?, wts, ?]</td>\n",
              "    </tr>\n",
              "    <tr>\n",
              "      <th>9</th>\n",
              "      <td>19</td>\n",
              "      <td>[hazy]</td>\n",
              "      <td>272</td>\n",
              "      <td>184</td>\n",
              "      <td>A guys state of mind after he sees the girl of...</td>\n",
              "      <td>[fuckin, hazy, again, !, !, !, !, !, !, !, !, ...</td>\n",
              "    </tr>\n",
              "    <tr>\n",
              "      <th>16</th>\n",
              "      <td>32</td>\n",
              "      <td>[ducket]</td>\n",
              "      <td>481</td>\n",
              "      <td>272</td>\n",
              "      <td>a one dollar bill. $1. ;; equivalent to one hu...</td>\n",
              "      <td>[fucking, ducket, again, ..]</td>\n",
              "    </tr>\n",
              "    <tr>\n",
              "      <th>19</th>\n",
              "      <td>38</td>\n",
              "      <td>[a-hole]</td>\n",
              "      <td>68</td>\n",
              "      <td>35</td>\n",
              "      <td>Ass hole</td>\n",
              "      <td>[los, angeles, lakers, are, a, bunch, of, lazy...</td>\n",
              "    </tr>\n",
              "    <tr>\n",
              "      <th>23</th>\n",
              "      <td>42</td>\n",
              "      <td>[clap]</td>\n",
              "      <td>1395</td>\n",
              "      <td>516</td>\n",
              "      <td>a case of gonorrhea</td>\n",
              "      <td>[i, think, i, got, a, case, of, the, claps, fr...</td>\n",
              "    </tr>\n",
              "    <tr>\n",
              "      <th>28</th>\n",
              "      <td>47</td>\n",
              "      <td>[puke]</td>\n",
              "      <td>138</td>\n",
              "      <td>109</td>\n",
              "      <td>to vomit</td>\n",
              "      <td>[this, crappy, movie, made, johnny, want, to, ...</td>\n",
              "    </tr>\n",
              "    <tr>\n",
              "      <th>29</th>\n",
              "      <td>48</td>\n",
              "      <td>[folks]</td>\n",
              "      <td>79</td>\n",
              "      <td>59</td>\n",
              "      <td>p. noun: People, not necessarily related, to w...</td>\n",
              "      <td>[so, are, your, folks, coming, over, for, east...</td>\n",
              "    </tr>\n",
              "    <tr>\n",
              "      <th>31</th>\n",
              "      <td>50</td>\n",
              "      <td>[dog]</td>\n",
              "      <td>1303</td>\n",
              "      <td>915</td>\n",
              "      <td>n. friend of the same sex, usually male. Deriv...</td>\n",
              "      <td>[``, definition, of, a, dog, :, not, a, cat, '...</td>\n",
              "    </tr>\n",
              "  </tbody>\n",
              "</table>\n",
              "</div>\n",
              "      <button class=\"colab-df-convert\" onclick=\"convertToInteractive('df-eb612689-6996-49ec-bcd0-5eb7236c748a')\"\n",
              "              title=\"Convert this dataframe to an interactive table.\"\n",
              "              style=\"display:none;\">\n",
              "        \n",
              "  <svg xmlns=\"http://www.w3.org/2000/svg\" height=\"24px\"viewBox=\"0 0 24 24\"\n",
              "       width=\"24px\">\n",
              "    <path d=\"M0 0h24v24H0V0z\" fill=\"none\"/>\n",
              "    <path d=\"M18.56 5.44l.94 2.06.94-2.06 2.06-.94-2.06-.94-.94-2.06-.94 2.06-2.06.94zm-11 1L8.5 8.5l.94-2.06 2.06-.94-2.06-.94L8.5 2.5l-.94 2.06-2.06.94zm10 10l.94 2.06.94-2.06 2.06-.94-2.06-.94-.94-2.06-.94 2.06-2.06.94z\"/><path d=\"M17.41 7.96l-1.37-1.37c-.4-.4-.92-.59-1.43-.59-.52 0-1.04.2-1.43.59L10.3 9.45l-7.72 7.72c-.78.78-.78 2.05 0 2.83L4 21.41c.39.39.9.59 1.41.59.51 0 1.02-.2 1.41-.59l7.78-7.78 2.81-2.81c.8-.78.8-2.07 0-2.86zM5.41 20L4 18.59l7.72-7.72 1.47 1.35L5.41 20z\"/>\n",
              "  </svg>\n",
              "      </button>\n",
              "      \n",
              "  <style>\n",
              "    .colab-df-container {\n",
              "      display:flex;\n",
              "      flex-wrap:wrap;\n",
              "      gap: 12px;\n",
              "    }\n",
              "\n",
              "    .colab-df-convert {\n",
              "      background-color: #E8F0FE;\n",
              "      border: none;\n",
              "      border-radius: 50%;\n",
              "      cursor: pointer;\n",
              "      display: none;\n",
              "      fill: #1967D2;\n",
              "      height: 32px;\n",
              "      padding: 0 0 0 0;\n",
              "      width: 32px;\n",
              "    }\n",
              "\n",
              "    .colab-df-convert:hover {\n",
              "      background-color: #E2EBFA;\n",
              "      box-shadow: 0px 1px 2px rgba(60, 64, 67, 0.3), 0px 1px 3px 1px rgba(60, 64, 67, 0.15);\n",
              "      fill: #174EA6;\n",
              "    }\n",
              "\n",
              "    [theme=dark] .colab-df-convert {\n",
              "      background-color: #3B4455;\n",
              "      fill: #D2E3FC;\n",
              "    }\n",
              "\n",
              "    [theme=dark] .colab-df-convert:hover {\n",
              "      background-color: #434B5C;\n",
              "      box-shadow: 0px 1px 3px 1px rgba(0, 0, 0, 0.15);\n",
              "      filter: drop-shadow(0px 1px 2px rgba(0, 0, 0, 0.3));\n",
              "      fill: #FFFFFF;\n",
              "    }\n",
              "  </style>\n",
              "\n",
              "      <script>\n",
              "        const buttonEl =\n",
              "          document.querySelector('#df-eb612689-6996-49ec-bcd0-5eb7236c748a button.colab-df-convert');\n",
              "        buttonEl.style.display =\n",
              "          google.colab.kernel.accessAllowed ? 'block' : 'none';\n",
              "\n",
              "        async function convertToInteractive(key) {\n",
              "          const element = document.querySelector('#df-eb612689-6996-49ec-bcd0-5eb7236c748a');\n",
              "          const dataTable =\n",
              "            await google.colab.kernel.invokeFunction('convertToInteractive',\n",
              "                                                     [key], {});\n",
              "          if (!dataTable) return;\n",
              "\n",
              "          const docLinkHtml = 'Like what you see? Visit the ' +\n",
              "            '<a target=\"_blank\" href=https://colab.research.google.com/notebooks/data_table.ipynb>data table notebook</a>'\n",
              "            + ' to learn more about interactive tables.';\n",
              "          element.innerHTML = '';\n",
              "          dataTable['output_type'] = 'display_data';\n",
              "          await google.colab.output.renderOutput(dataTable, element);\n",
              "          const docLink = document.createElement('div');\n",
              "          docLink.innerHTML = docLinkHtml;\n",
              "          element.appendChild(docLink);\n",
              "        }\n",
              "      </script>\n",
              "    </div>\n",
              "  </div>\n",
              "  "
            ]
          },
          "metadata": {},
          "execution_count": 64
        }
      ]
    },
    {
      "cell_type": "code",
      "source": [
        "copy = final_df.copy()\n",
        "copy = copy[copy.apply(lambda row: row['word'][0] in row['usage'], axis=1)]"
      ],
      "metadata": {
        "id": "ep8Dyl7_IZe_"
      },
      "execution_count": null,
      "outputs": []
    },
    {
      "cell_type": "code",
      "source": [
        "copy['tags'] = None"
      ],
      "metadata": {
        "id": "NX-VzdE7KcZi"
      },
      "execution_count": null,
      "outputs": []
    },
    {
      "cell_type": "code",
      "source": [
        "copy.head(10)"
      ],
      "metadata": {
        "colab": {
          "base_uri": "https://localhost:8080/",
          "height": 362
        },
        "id": "mbWGYk8hMsil",
        "outputId": "f0bbd31b-dd11-4307-e9e6-8cd41078174f"
      },
      "execution_count": null,
      "outputs": [
        {
          "output_type": "execute_result",
          "data": {
            "text/plain": [
              "    word_id       word  up_votes  down_votes  \\\n",
              "0         7    [janky]       296         255   \n",
              "8        17      [wtf]       183          99   \n",
              "9        19     [hazy]       272         184   \n",
              "16       32   [ducket]       481         272   \n",
              "28       47     [puke]       138         109   \n",
              "29       48    [folks]        79          59   \n",
              "31       50      [dog]      1303         915   \n",
              "33       54  [raunchy]       230         195   \n",
              "34       55   [energy]       127          52   \n",
              "36       61   [rental]        20           9   \n",
              "\n",
              "                                           definition  \\\n",
              "0                     Undesirable; less-than optimum.   \n",
              "8   what the fuck? ;; use it in place of expletive...   \n",
              "9   A guys state of mind after he sees the girl of...   \n",
              "16  a one dollar bill. $1. ;; equivalent to one hu...   \n",
              "28                                           to vomit   \n",
              "29  p. noun: People, not necessarily related, to w...   \n",
              "31  n. friend of the same sex, usually male. Deriv...   \n",
              "33      distasteful, obscene, and or just plain gross   \n",
              "34  can be converted from one form to another, but...   \n",
              "36  means of transportaion that damage is totally ...   \n",
              "\n",
              "                                                usage  tags  \n",
              "0   [this, janky, shirt, she, gave, me, is, fallin...  None  \n",
              "8               [wtf, ?, whoth, ?, whentf, ?, wts, ?]  None  \n",
              "9   [fuckin, hazy, again, !, !, !, !, !, !, !, !, ...  None  \n",
              "16                       [fucking, ducket, again, ..]  None  \n",
              "28  [this, crappy, movie, made, johnny, want, to, ...  None  \n",
              "29  [so, are, your, folks, coming, over, for, east...  None  \n",
              "31  [``, definition, of, a, dog, :, not, a, cat, '...  None  \n",
              "33            [that, was, a, very, raunchy, movie, .]  None  \n",
              "34     [i, so, munch, energy, i, can, go, all, night]  None  \n",
              "36  [my, mom, could, n't, afford, to, buy, an, air...  None  "
            ],
            "text/html": [
              "\n",
              "  <div id=\"df-65f4eda9-db7f-4597-b8da-a071160a050e\">\n",
              "    <div class=\"colab-df-container\">\n",
              "      <div>\n",
              "<style scoped>\n",
              "    .dataframe tbody tr th:only-of-type {\n",
              "        vertical-align: middle;\n",
              "    }\n",
              "\n",
              "    .dataframe tbody tr th {\n",
              "        vertical-align: top;\n",
              "    }\n",
              "\n",
              "    .dataframe thead th {\n",
              "        text-align: right;\n",
              "    }\n",
              "</style>\n",
              "<table border=\"1\" class=\"dataframe\">\n",
              "  <thead>\n",
              "    <tr style=\"text-align: right;\">\n",
              "      <th></th>\n",
              "      <th>word_id</th>\n",
              "      <th>word</th>\n",
              "      <th>up_votes</th>\n",
              "      <th>down_votes</th>\n",
              "      <th>definition</th>\n",
              "      <th>usage</th>\n",
              "      <th>tags</th>\n",
              "    </tr>\n",
              "  </thead>\n",
              "  <tbody>\n",
              "    <tr>\n",
              "      <th>0</th>\n",
              "      <td>7</td>\n",
              "      <td>[janky]</td>\n",
              "      <td>296</td>\n",
              "      <td>255</td>\n",
              "      <td>Undesirable; less-than optimum.</td>\n",
              "      <td>[this, janky, shirt, she, gave, me, is, fallin...</td>\n",
              "      <td>None</td>\n",
              "    </tr>\n",
              "    <tr>\n",
              "      <th>8</th>\n",
              "      <td>17</td>\n",
              "      <td>[wtf]</td>\n",
              "      <td>183</td>\n",
              "      <td>99</td>\n",
              "      <td>what the fuck? ;; use it in place of expletive...</td>\n",
              "      <td>[wtf, ?, whoth, ?, whentf, ?, wts, ?]</td>\n",
              "      <td>None</td>\n",
              "    </tr>\n",
              "    <tr>\n",
              "      <th>9</th>\n",
              "      <td>19</td>\n",
              "      <td>[hazy]</td>\n",
              "      <td>272</td>\n",
              "      <td>184</td>\n",
              "      <td>A guys state of mind after he sees the girl of...</td>\n",
              "      <td>[fuckin, hazy, again, !, !, !, !, !, !, !, !, ...</td>\n",
              "      <td>None</td>\n",
              "    </tr>\n",
              "    <tr>\n",
              "      <th>16</th>\n",
              "      <td>32</td>\n",
              "      <td>[ducket]</td>\n",
              "      <td>481</td>\n",
              "      <td>272</td>\n",
              "      <td>a one dollar bill. $1. ;; equivalent to one hu...</td>\n",
              "      <td>[fucking, ducket, again, ..]</td>\n",
              "      <td>None</td>\n",
              "    </tr>\n",
              "    <tr>\n",
              "      <th>28</th>\n",
              "      <td>47</td>\n",
              "      <td>[puke]</td>\n",
              "      <td>138</td>\n",
              "      <td>109</td>\n",
              "      <td>to vomit</td>\n",
              "      <td>[this, crappy, movie, made, johnny, want, to, ...</td>\n",
              "      <td>None</td>\n",
              "    </tr>\n",
              "    <tr>\n",
              "      <th>29</th>\n",
              "      <td>48</td>\n",
              "      <td>[folks]</td>\n",
              "      <td>79</td>\n",
              "      <td>59</td>\n",
              "      <td>p. noun: People, not necessarily related, to w...</td>\n",
              "      <td>[so, are, your, folks, coming, over, for, east...</td>\n",
              "      <td>None</td>\n",
              "    </tr>\n",
              "    <tr>\n",
              "      <th>31</th>\n",
              "      <td>50</td>\n",
              "      <td>[dog]</td>\n",
              "      <td>1303</td>\n",
              "      <td>915</td>\n",
              "      <td>n. friend of the same sex, usually male. Deriv...</td>\n",
              "      <td>[``, definition, of, a, dog, :, not, a, cat, '...</td>\n",
              "      <td>None</td>\n",
              "    </tr>\n",
              "    <tr>\n",
              "      <th>33</th>\n",
              "      <td>54</td>\n",
              "      <td>[raunchy]</td>\n",
              "      <td>230</td>\n",
              "      <td>195</td>\n",
              "      <td>distasteful, obscene, and or just plain gross</td>\n",
              "      <td>[that, was, a, very, raunchy, movie, .]</td>\n",
              "      <td>None</td>\n",
              "    </tr>\n",
              "    <tr>\n",
              "      <th>34</th>\n",
              "      <td>55</td>\n",
              "      <td>[energy]</td>\n",
              "      <td>127</td>\n",
              "      <td>52</td>\n",
              "      <td>can be converted from one form to another, but...</td>\n",
              "      <td>[i, so, munch, energy, i, can, go, all, night]</td>\n",
              "      <td>None</td>\n",
              "    </tr>\n",
              "    <tr>\n",
              "      <th>36</th>\n",
              "      <td>61</td>\n",
              "      <td>[rental]</td>\n",
              "      <td>20</td>\n",
              "      <td>9</td>\n",
              "      <td>means of transportaion that damage is totally ...</td>\n",
              "      <td>[my, mom, could, n't, afford, to, buy, an, air...</td>\n",
              "      <td>None</td>\n",
              "    </tr>\n",
              "  </tbody>\n",
              "</table>\n",
              "</div>\n",
              "      <button class=\"colab-df-convert\" onclick=\"convertToInteractive('df-65f4eda9-db7f-4597-b8da-a071160a050e')\"\n",
              "              title=\"Convert this dataframe to an interactive table.\"\n",
              "              style=\"display:none;\">\n",
              "        \n",
              "  <svg xmlns=\"http://www.w3.org/2000/svg\" height=\"24px\"viewBox=\"0 0 24 24\"\n",
              "       width=\"24px\">\n",
              "    <path d=\"M0 0h24v24H0V0z\" fill=\"none\"/>\n",
              "    <path d=\"M18.56 5.44l.94 2.06.94-2.06 2.06-.94-2.06-.94-.94-2.06-.94 2.06-2.06.94zm-11 1L8.5 8.5l.94-2.06 2.06-.94-2.06-.94L8.5 2.5l-.94 2.06-2.06.94zm10 10l.94 2.06.94-2.06 2.06-.94-2.06-.94-.94-2.06-.94 2.06-2.06.94z\"/><path d=\"M17.41 7.96l-1.37-1.37c-.4-.4-.92-.59-1.43-.59-.52 0-1.04.2-1.43.59L10.3 9.45l-7.72 7.72c-.78.78-.78 2.05 0 2.83L4 21.41c.39.39.9.59 1.41.59.51 0 1.02-.2 1.41-.59l7.78-7.78 2.81-2.81c.8-.78.8-2.07 0-2.86zM5.41 20L4 18.59l7.72-7.72 1.47 1.35L5.41 20z\"/>\n",
              "  </svg>\n",
              "      </button>\n",
              "      \n",
              "  <style>\n",
              "    .colab-df-container {\n",
              "      display:flex;\n",
              "      flex-wrap:wrap;\n",
              "      gap: 12px;\n",
              "    }\n",
              "\n",
              "    .colab-df-convert {\n",
              "      background-color: #E8F0FE;\n",
              "      border: none;\n",
              "      border-radius: 50%;\n",
              "      cursor: pointer;\n",
              "      display: none;\n",
              "      fill: #1967D2;\n",
              "      height: 32px;\n",
              "      padding: 0 0 0 0;\n",
              "      width: 32px;\n",
              "    }\n",
              "\n",
              "    .colab-df-convert:hover {\n",
              "      background-color: #E2EBFA;\n",
              "      box-shadow: 0px 1px 2px rgba(60, 64, 67, 0.3), 0px 1px 3px 1px rgba(60, 64, 67, 0.15);\n",
              "      fill: #174EA6;\n",
              "    }\n",
              "\n",
              "    [theme=dark] .colab-df-convert {\n",
              "      background-color: #3B4455;\n",
              "      fill: #D2E3FC;\n",
              "    }\n",
              "\n",
              "    [theme=dark] .colab-df-convert:hover {\n",
              "      background-color: #434B5C;\n",
              "      box-shadow: 0px 1px 3px 1px rgba(0, 0, 0, 0.15);\n",
              "      filter: drop-shadow(0px 1px 2px rgba(0, 0, 0, 0.3));\n",
              "      fill: #FFFFFF;\n",
              "    }\n",
              "  </style>\n",
              "\n",
              "      <script>\n",
              "        const buttonEl =\n",
              "          document.querySelector('#df-65f4eda9-db7f-4597-b8da-a071160a050e button.colab-df-convert');\n",
              "        buttonEl.style.display =\n",
              "          google.colab.kernel.accessAllowed ? 'block' : 'none';\n",
              "\n",
              "        async function convertToInteractive(key) {\n",
              "          const element = document.querySelector('#df-65f4eda9-db7f-4597-b8da-a071160a050e');\n",
              "          const dataTable =\n",
              "            await google.colab.kernel.invokeFunction('convertToInteractive',\n",
              "                                                     [key], {});\n",
              "          if (!dataTable) return;\n",
              "\n",
              "          const docLinkHtml = 'Like what you see? Visit the ' +\n",
              "            '<a target=\"_blank\" href=https://colab.research.google.com/notebooks/data_table.ipynb>data table notebook</a>'\n",
              "            + ' to learn more about interactive tables.';\n",
              "          element.innerHTML = '';\n",
              "          dataTable['output_type'] = 'display_data';\n",
              "          await google.colab.output.renderOutput(dataTable, element);\n",
              "          const docLink = document.createElement('div');\n",
              "          docLink.innerHTML = docLinkHtml;\n",
              "          element.appendChild(docLink);\n",
              "        }\n",
              "      </script>\n",
              "    </div>\n",
              "  </div>\n",
              "  "
            ]
          },
          "metadata": {},
          "execution_count": 74
        }
      ]
    },
    {
      "cell_type": "code",
      "source": [
        "for index, row in copy.iterrows():\n",
        "    slang = row['word']\n",
        "    usage = row['usage']\n",
        "    \n",
        "    tags = []\n",
        "    i = 0\n",
        "    j = 0\n",
        "    \n",
        "    while i < len(usage):\n",
        "        if j < len(slang) and usage[i] == slang[j]:\n",
        "            tags.append('B')\n",
        "            j += 1\n",
        "            # Check for consecutive matching words in column1\n",
        "            while j < len(slang) and i + j < len(usage) and usage[i + j] == slang[j]:\n",
        "                tags.append('I')\n",
        "                j += 1\n",
        "        else:\n",
        "            tags.append('O')\n",
        "        i += 1\n",
        "    \n",
        "    copy.at[index, 'tags'] = tags"
      ],
      "metadata": {
        "id": "OBHdXcFtOMO4"
      },
      "execution_count": null,
      "outputs": []
    },
    {
      "cell_type": "code",
      "source": [
        "len(copy)"
      ],
      "metadata": {
        "colab": {
          "base_uri": "https://localhost:8080/"
        },
        "id": "HfrbKys8QYT3",
        "outputId": "7435e1e9-051d-4d5b-ac9e-2251e1add380"
      },
      "execution_count": null,
      "outputs": [
        {
          "output_type": "execute_result",
          "data": {
            "text/plain": [
              "75814"
            ]
          },
          "metadata": {},
          "execution_count": 82
        }
      ]
    },
    {
      "cell_type": "code",
      "source": [
        "copy.to_csv('/content/drive/MyDrive/final_file.csv', index=False)"
      ],
      "metadata": {
        "id": "BmvhQE2B7EMK"
      },
      "execution_count": null,
      "outputs": []
    },
    {
      "cell_type": "code",
      "source": [],
      "metadata": {
        "id": "86P2ciRD8t5c"
      },
      "execution_count": null,
      "outputs": []
    }
  ]
}